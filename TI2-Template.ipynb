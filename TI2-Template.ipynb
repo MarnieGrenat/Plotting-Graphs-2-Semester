{
 "cells": [
  {
   "cell_type": "markdown",
   "metadata": {},
   "source": [
    "# [Prof. Dalvan Griebler](mailto:dalvan.griebler@pucrs.br)\n",
    "\n",
    "## Programação Orientada a Dados (POD) - Turma 10 (POD_98H04-06)\n",
    "\n",
    "**Atualizado**: 17/11/2022\n",
    "\n",
    "**Descrição**: Trabalho Individual: Manipulação, Análise e Visualização Vetorial e Tabular de Dados\n",
    "\n",
    "**Copyright &copy;**: Este documento está sob a licensa da Criative Commons [BY-NC-ND 4.0](https://creativecommons.org/licenses/by-nc-nd/4.0/legalcode)"
   ]
  },
  {
   "cell_type": "markdown",
   "metadata": {},
   "source": [
    "**_Atenção: Pontuação extra para quem explicar como funcionam as partes dos códigos para resolver cada questão através de comentário do Python (`#`)._**\n",
    "\n",
    "**_Atenção: O resultado deverá ser igual ao resultado esperado._**"
   ]
  },
  {
   "cell_type": "markdown",
   "metadata": {},
   "source": [
    "### Trabalho realizado por:"
   ]
  },
  {
   "cell_type": "markdown",
   "metadata": {},
   "source": [
    "Gabriela Dellamora Paim - 2210768-5"
   ]
  },
  {
   "cell_type": "markdown",
   "metadata": {},
   "source": [
    "# Bibliotecas Autorizadas\n",
    "\n",
    "Não importe outras bibliotecas além destas, pois não estão autorizadas para o uso."
   ]
  },
  {
   "cell_type": "code",
   "execution_count": 2,
   "metadata": {},
   "outputs": [],
   "source": [
    "import numpy as np\n",
    "import pandas as pd\n",
    "from matplotlib import pyplot as plt\n",
    "from PIL import Image"
   ]
  },
  {
   "cell_type": "markdown",
   "metadata": {},
   "source": [
    "# Parte-1: Manipulação de Dados Vetorial e Geração de Gráficos Simples\n",
    "\n",
    "_Atenção: não será permitido o uso de laços nesta parte do trabalho sobre manipulação vetorial._"
   ]
  },
  {
   "cell_type": "markdown",
   "metadata": {},
   "source": [
    "## 1. Crie um array 2D `shape(10,10)`  e realize operações de indexação e fatiamento para obter o seguinte resultado.\n",
    "\n",
    "```bash\n",
    "   [[ 1.,  2.,  3.,  5.,  5.,  5.,  5.,  5.,  5.,  5.],\n",
    "    [ 2.,  1.,  2.,  3., 10., 10., 10., 10., 10., 10.],\n",
    "    [ 3.,  2.,  1.,  2.,  3., 15., 15., 15., 15., 15.],\n",
    "    [ 5.,  3.,  2.,  1.,  2.,  3., 20., 20., 20., 20.],\n",
    "    [ 5., 10.,  3.,  2.,  1.,  2.,  3., 25., 25., 25.],\n",
    "    [ 5., 10., 15.,  3.,  2.,  3.,  2.,  3., 30., 30.],\n",
    "    [ 5., 10., 15., 20.,  3.,  2.,  3.,  2.,  3., 35.],\n",
    "    [ 5., 10., 15., 20., 25.,  3.,  2.,  3.,  2.,  3.],\n",
    "    [ 5., 10., 15., 20., 25., 30.,  3.,  2.,  3.,  2.],\n",
    "    [ 5., 10., 15., 20., 25., 30., 35.,  3.,  2.,  3.]]\n",
    "    \n",
    "```"
   ]
  },
  {
   "cell_type": "code",
   "execution_count": null,
   "metadata": {},
   "outputs": [],
   "source": [
    "\"\"\"\n",
    "fatiamento diagonal\n",
    "primeiro checar padrão\n",
    "usar fatiamento e indexação para preencher os valores\n",
    "array.fill_diagonal() é um método útil!\n",
    "Não utilizar laços :(\n",
    "aprender a usar os métodos disponíveis no pd e np\n",
    "\"\"\"\n"
   ]
  },
  {
   "cell_type": "code",
   "execution_count": 69,
   "metadata": {
    "scrolled": true
   },
   "outputs": [],
   "source": [
    "def change_values(array:np.ndarray, size:int, value:int=50):\n",
    "    \"\"\"Função recursiva para modificar os valores da matriz proposta para o TI2.\n",
    "    size-=1 pois índice começa em zero (e essa operação é reaproveitada na recursão).\n",
    "    \n",
    "    Se size < 0, então chegamos no fim da matriz\n",
    "    \n",
    "    retorna\n",
    "    \n",
    "    senão:\n",
    "    \n",
    "    toda coluna (size:int) será (value:int)\n",
    "    \n",
    "    toda linha (size:int) será (value:int)\n",
    "    \n",
    "    retorna recursão, recebendo value=value-5\n",
    "\n",
    "    Args:\n",
    "        array (np.ndarray): array que iremos trabalhar com\n",
    "        size (int): tamanho do array que iremos trabalhar com\n",
    "        value (int, optional): valor que vamos começar a contagem\n",
    "\n",
    "    Returns:\n",
    "        _type_: retorna um np.array com toda linha i e toda coluna i do mesmo valor, para todos os i presentes no size do array.\n",
    "    \"\"\"\n",
    "    size-=1\n",
    "    if size < 0:\n",
    "        return\n",
    "    else:\n",
    "        array[:, size] = value\n",
    "        array[size,:] = value\n",
    "    return change_values(array, size=size, value=(value-5))"
   ]
  },
  {
   "cell_type": "code",
   "execution_count": 64,
   "metadata": {},
   "outputs": [],
   "source": [
    "def get_bigger(array:np.ndarray, size:int):\n",
    "    #print(len(array))\n",
    "    if len(array) == size:\n",
    "        return array\n",
    "    else:\n",
    "        #print('I\\'m working!')\n",
    "        aux_row = np.zeros(shape=(1, len(array)))\n",
    "        array = np.vstack([aux_row, array])\n",
    "        \n",
    "        aux_column = np.zeros(shape=(len(array), 1))\n",
    "        array = np.hstack([array, aux_column])\n",
    "        #print(array)\n",
    "    return get_bigger(array=array, size=size)\n",
    "        \n",
    "    "
   ]
  },
  {
   "cell_type": "code",
   "execution_count": 110,
   "metadata": {},
   "outputs": [
    {
     "data": {
      "text/plain": [
       "array([[1., 2., 3., 0., 0., 0., 0., 0., 0., 0.],\n",
       "       [2., 1., 2., 3., 0., 0., 0., 0., 0., 0.],\n",
       "       [3., 2., 1., 2., 3., 0., 0., 0., 0., 0.],\n",
       "       [0., 3., 2., 1., 2., 3., 0., 0., 0., 0.],\n",
       "       [0., 0., 3., 2., 1., 2., 3., 0., 0., 0.],\n",
       "       [0., 0., 0., 3., 2., 1., 2., 3., 0., 0.],\n",
       "       [0., 0., 0., 0., 3., 2., 1., 2., 3., 0.],\n",
       "       [0., 0., 0., 0., 0., 3., 2., 1., 2., 3.],\n",
       "       [0., 0., 0., 0., 0., 0., 3., 2., 1., 2.],\n",
       "       [0., 0., 0., 0., 0., 0., 0., 3., 2., 1.]])"
      ]
     },
     "metadata": {},
     "output_type": "display_data"
    },
    {
     "data": {
      "text/plain": [
       "array([[ 5.,  5.,  5.,  5.,  5.,  5.,  5.,  5.,  5.,  5.],\n",
       "       [ 5., 10., 10., 10., 10., 10., 10., 10., 10., 10.],\n",
       "       [ 5., 10., 15., 15., 15., 15., 15., 15., 15., 15.],\n",
       "       [ 5., 10., 15., 20., 20., 20., 20., 20., 20., 20.],\n",
       "       [ 5., 10., 15., 20., 25., 25., 25., 25., 25., 25.],\n",
       "       [ 5., 10., 15., 20., 25., 30., 30., 30., 30., 30.],\n",
       "       [ 5., 10., 15., 20., 25., 30., 35., 35., 35., 35.],\n",
       "       [ 5., 10., 15., 20., 25., 30., 35., 40., 40., 40.],\n",
       "       [ 5., 10., 15., 20., 25., 30., 35., 40., 45., 45.],\n",
       "       [ 5., 10., 15., 20., 25., 30., 35., 40., 45., 50.]])"
      ]
     },
     "metadata": {},
     "output_type": "display_data"
    }
   ],
   "source": [
    "a = np.zeros(shape=(8,8)) #Criando uma array de 2 dimensões, 10x10 preenchida por zeros.\n",
    "np.fill_diagonal(a=a, val=3) #filling diagonal com valor 3\n",
    "\n",
    "b = np.zeros(shape=(9,9)) #Criando uma array de 2 dimensões, 9x9 preenchida por zeros.\n",
    "np.fill_diagonal(a=b, val=2) #filling diagonal com valor 2\n",
    "\n",
    "c = np.zeros(shape=(10,10)) #Criando uma array de 2 dimensões, 10x10 preenchida por zeros.\n",
    "np.fill_diagonal(a=c, val=1) #filling diagonal com valor 1\n",
    "\n",
    "array = np.zeros(shape=(10,10)) #Criando uma array de 2 dimensões, 10x10 preenchida por zeros.\n",
    "\n",
    "\n",
    "a = get_bigger(array=a, size=10)\n",
    "b = get_bigger(array=b, size=10)\n",
    " \n",
    "a = np.add(a,b)\n",
    "c = np.add(a,c)\n",
    "aux = np.flip(m=a, axis=0)\n",
    "aux = np.flip(m=aux, axis=1)\n",
    "c = np.add(c, aux)\n",
    "#listra vertical pronta!\n",
    "\n",
    "result = np.concatenate((c))\n",
    "\n",
    "\n",
    "\n",
    "change_values(array=array, size=len(array)) #modificando valores da array\n",
    "display(c) \n",
    "display(array) \n",
    " "
   ]
  },
  {
   "cell_type": "markdown",
   "metadata": {},
   "source": [
    "## 2. Para o seguinte array, calcule: \n",
    "- Médias das diagonais principal e secundária.\n",
    "- Média das linhas e coluna para posteriomente plotar um gráfico de linhas.\n",
    "\n",
    "```python\n",
    " np.array([[ 44,  70,  98,  63,  30,  96,  26,  94,  20,  67],\n",
    "       [ 22,  79,  53,  16,  46,  63,  45,  61,  66,  10],\n",
    "       [ 71,  96,  68,  14,  86,  99,   1,  44,  66,  20],\n",
    "       [ 92,  40,   0,  12,  91,   1,   9,  19,  60,   5],\n",
    "       [ 53,  46,  65,  73,  29,   0,  89, 100,  13,  78],\n",
    "       [ 81,  16,  21, 100,  36,  51,  38,  85,  90,  35],\n",
    "       [ 91,  70,   8,  20,  60,  40,  14,  16,   0,  19],\n",
    "       [ 87,  10,  24,  40,  62,   5,  32,  28,  69,  29],\n",
    "       [ 94,  88,  40,   4,  85,  61,  30,  68,  63,  61],\n",
    "       [ 74, 100,  34,  88,   0,  12,  61,  32,  10,  46]])\n",
    "```\n",
    "\n",
    "**Resultado esperado:**\n",
    "\n",
    "Média diagonal principal:  43.4\n",
    "\n",
    "Média diagonal secundária:  42.8\n",
    "\n",
    "\n",
    "![](fig-ti2-ex2.png)"
   ]
  },
  {
   "cell_type": "code",
   "execution_count": null,
   "metadata": {},
   "outputs": [],
   "source": []
  },
  {
   "cell_type": "markdown",
   "metadata": {},
   "source": [
    "# Parte-2: Manipulação de Dados Tabular"
   ]
  },
  {
   "cell_type": "markdown",
   "metadata": {},
   "source": [
    "## 3. Forneça um único DataFrame a partir dos dados contidos em `cars_info.csv` e `cars_valores.csv`. Depois salve o DataFrame em um arquivo chamado `cars.csv` para reusar nas próximas questões.\n",
    "\n",
    "_Obs: Para quem usar laços nesta questão, terá um desconto de 25% na nota._\n",
    "\n",
    "\n",
    "**Resultado Esperado do DataFrame:**\n",
    "```bash\n",
    "<class 'pandas.core.frame.DataFrame'>\n",
    "Int64Index: 4340 entries, 0 to 4339\n",
    "Data columns (total 9 columns):\n",
    " #   Column         Non-Null Count  Dtype \n",
    "---  ------         --------------  ----- \n",
    " 0   ID             4340 non-null   int64 \n",
    " 1   name           4340 non-null   object\n",
    " 2   fuel           4340 non-null   object\n",
    " 3   seller_type    4340 non-null   object\n",
    " 4   transmission   4340 non-null   object\n",
    " 5   owner          4340 non-null   object\n",
    " 6   year           4340 non-null   int64 \n",
    " 7   selling_price  4340 non-null   object\n",
    " 8   km_driven      4340 non-null   int64 \n",
    "dtypes: int64(3), object(6)\n",
    "```"
   ]
  },
  {
   "cell_type": "code",
   "execution_count": null,
   "metadata": {},
   "outputs": [],
   "source": []
  },
  {
   "cell_type": "markdown",
   "metadata": {},
   "source": [
    "## 4 - Adicione o campo `marca` no `cars.csv` e corrija os dados.\n",
    "\n",
    "_Obs: o valor do campo marca deve ser extraído de uma coluna do próprio dataset_\n",
    "\n",
    "_Obs: Atente-se aos dados faltantes no campo selling-price, eles devem ser preenchidos com a média de preço dos carros da mesma marca_\n",
    "\n",
    "**Resultado Esperado do DataFrame:**\n",
    "\n",
    "\n",
    "```bash\n",
    "<class 'pandas.core.frame.DataFrame'>\n",
    "RangeIndex: 4340 entries, 0 to 4339\n",
    "Data columns (total 10 columns):\n",
    " #   Column         Non-Null Count  Dtype \n",
    "---  ------         --------------  ----- \n",
    " 0   ID             4340 non-null   int64 \n",
    " 1   name           4340 non-null   object\n",
    " 2   fuel           4340 non-null   object\n",
    " 3   seller_type    4340 non-null   object\n",
    " 4   transmission   4340 non-null   object\n",
    " 5   owner          4340 non-null   object\n",
    " 6   year           4340 non-null   int64 \n",
    " 7   selling_price  4340 non-null   int64 \n",
    " 8   km_driven      4340 non-null   int64 \n",
    " 9   marca          4340 non-null   object\n",
    "dtypes: int64(4), object(6)\n",
    "```"
   ]
  },
  {
   "cell_type": "code",
   "execution_count": null,
   "metadata": {},
   "outputs": [],
   "source": []
  },
  {
   "cell_type": "markdown",
   "metadata": {},
   "source": [
    "## 5- Mostre a diferença de preço de venda entre `First Owner` e `Second Owner` dos top 5 marcas mais caras pelo preço médio em gráfico de barras do dataset `cars.csv`.\n",
    "\n",
    "**Resultado Esperado**\n",
    "\n",
    "![](fig-ti2-ex5.png)\n"
   ]
  },
  {
   "cell_type": "code",
   "execution_count": null,
   "metadata": {},
   "outputs": [],
   "source": []
  },
  {
   "cell_type": "markdown",
   "metadata": {},
   "source": [
    "## 6- Mostre em gráfico de pizza (`Axes(1,2)`) com os 5 anos de maior número de vendas de carros usados (`Second Owner`) e maior número de vendas de carros novos (`First Owner`).\n",
    "\n",
    "**Resultado Esperado**\n",
    "\n",
    "![](fig-ti2-ex6.png)"
   ]
  },
  {
   "cell_type": "code",
   "execution_count": null,
   "metadata": {},
   "outputs": [],
   "source": []
  },
  {
   "cell_type": "markdown",
   "metadata": {},
   "source": [
    "## 7. Para a base de dados `cars.csv`, apresente dois gráficos `boxplot`  (`Axes(1,2)`) do valor de `km_driven`, sendo um para os 5 mais vendidos como `First Owner` e outro para os 5 mais vendidos como `Second Owner`.\n",
    "\n",
    "**Resultado Esperado**\n",
    "\n",
    "![](fig-ti2-ex7.png)"
   ]
  },
  {
   "cell_type": "code",
   "execution_count": null,
   "metadata": {},
   "outputs": [],
   "source": []
  }
 ],
 "metadata": {
  "kernelspec": {
   "display_name": "Python 3 (ipykernel)",
   "language": "python",
   "name": "python3"
  },
  "language_info": {
   "codemirror_mode": {
    "name": "ipython",
    "version": 3
   },
   "file_extension": ".py",
   "mimetype": "text/x-python",
   "name": "python",
   "nbconvert_exporter": "python",
   "pygments_lexer": "ipython3",
   "version": "3.10.6"
  },
  "vscode": {
   "interpreter": {
    "hash": "916dbcbb3f70747c44a77c7bcd40155683ae19c65e1c03b4aa3499c5328201f1"
   }
  }
 },
 "nbformat": 4,
 "nbformat_minor": 2
}
