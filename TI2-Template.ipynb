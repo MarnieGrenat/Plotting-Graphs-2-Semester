{
 "cells": [
  {
   "cell_type": "markdown",
   "metadata": {},
   "source": [
    "# [Prof. Dalvan Griebler](mailto:dalvan.griebler@pucrs.br)\n",
    "\n",
    "## Programação Orientada a Dados (POD) - Turma 10 (POD_98H04-06)\n",
    "\n",
    "**Atualizado**: 17/11/2022\n",
    "\n",
    "**Descrição**: Trabalho Individual: Manipulação, Análise e Visualização Vetorial e Tabular de Dados\n",
    "\n",
    "**Copyright &copy;**: Este documento está sob a licensa da Criative Commons [BY-NC-ND 4.0](https://creativecommons.org/licenses/by-nc-nd/4.0/legalcode)"
   ]
  },
  {
   "cell_type": "markdown",
   "metadata": {},
   "source": [
    "**_Atenção: Pontuação extra para quem explicar como funcionam as partes dos códigos para resolver cada questão através de comentário do Python (`#`)._**\n",
    "\n",
    "**_Atenção: O resultado deverá ser igual ao resultado esperado._**"
   ]
  },
  {
   "cell_type": "markdown",
   "metadata": {},
   "source": [
    "### Trabalho realizado por:"
   ]
  },
  {
   "cell_type": "markdown",
   "metadata": {},
   "source": [
    "Gabriela Dellamora Paim - 2210768-5"
   ]
  },
  {
   "cell_type": "markdown",
   "metadata": {},
   "source": [
    "# Bibliotecas Autorizadas\n",
    "\n",
    "Não importe outras bibliotecas além destas, pois não estão autorizadas para o uso."
   ]
  },
  {
   "cell_type": "code",
   "execution_count": 99,
   "metadata": {},
   "outputs": [],
   "source": [
    "import numpy as np\n",
    "import pandas as pd\n",
    "from matplotlib import pyplot as plt\n",
    "from PIL import Image"
   ]
  },
  {
   "cell_type": "markdown",
   "metadata": {},
   "source": [
    "# Parte-1: Manipulação de Dados Vetorial e Geração de Gráficos Simples\n",
    "\n",
    "_Atenção: não será permitido o uso de laços nesta parte do trabalho sobre manipulação vetorial._"
   ]
  },
  {
   "cell_type": "markdown",
   "metadata": {},
   "source": [
    "## 1. Crie um array 2D `shape(10,10)`  e realize operações de indexação e fatiamento para obter o seguinte resultado.\n",
    "\n",
    "```bash\n",
    "   [[ 1.,  2.,  3.,  5.,  5.,  5.,  5.,  5.,  5.,  5.],\n",
    "    [ 2.,  1.,  2.,  3., 10., 10., 10., 10., 10., 10.],\n",
    "    [ 3.,  2.,  1.,  2.,  3., 15., 15., 15., 15., 15.],\n",
    "    [ 5.,  3.,  2.,  1.,  2.,  3., 20., 20., 20., 20.],\n",
    "    [ 5., 10.,  3.,  2.,  1.,  2.,  3., 25., 25., 25.],\n",
    "    [ 5., 10., 15.,  3.,  2.,  3.,  2.,  3., 30., 30.],\n",
    "    [ 5., 10., 15., 20.,  3.,  2.,  3.,  2.,  3., 35.],\n",
    "    [ 5., 10., 15., 20., 25.,  3.,  2.,  3.,  2.,  3.],\n",
    "    [ 5., 10., 15., 20., 25., 30.,  3.,  2.,  3.,  2.],\n",
    "    [ 5., 10., 15., 20., 25., 30., 35.,  3.,  2.,  3.]]\n",
    "    \n",
    "```"
   ]
  },
  {
   "cell_type": "code",
   "execution_count": 1,
   "metadata": {},
   "outputs": [
    {
     "data": {
      "text/plain": [
       "'\\nfatiamento diagonal\\nprimeiro checar padrão\\nusar fatiamento e indexação para preencher os valores\\narray.fill_diagonal() é um método útil!\\nNão utilizar laços :(\\naprender a usar os métodos disponíveis no pd e np\\n'"
      ]
     },
     "execution_count": 1,
     "metadata": {},
     "output_type": "execute_result"
    }
   ],
   "source": [
    "\"\"\"\n",
    "fatiamento diagonal\n",
    "primeiro checar padrão\n",
    "usar fatiamento e indexação para preencher os valores\n",
    "array.fill_diagonal() é um método útil!\n",
    "Não utilizar laços :(\n",
    "aprender a usar os métodos disponíveis no pd e np\n",
    "\"\"\"\n"
   ]
  },
  {
   "cell_type": "code",
   "execution_count": 5,
   "metadata": {
    "scrolled": true
   },
   "outputs": [],
   "source": [
    "def change_values(array:np.ndarray, size:int, value:int=50):\n",
    "    \"\"\"Função recursiva para modificar os valores da matriz proposta para o TI2.\n",
    "    size-=1 pois índice começa em zero (e essa operação é reaproveitada na recursão).\n",
    "    \n",
    "    Se size < 0, então chegamos no fim da matriz\n",
    "    \n",
    "    retorna\n",
    "    \n",
    "    senão:\n",
    "    \n",
    "    toda coluna (size:int) será (value:int)\n",
    "    \n",
    "    toda linha (size:int) será (value:int)\n",
    "    \n",
    "    retorna recursão, recebendo value=value-5\n",
    "\n",
    "    Args:\n",
    "        array (np.ndarray): array que iremos trabalhar com\n",
    "        size (int): tamanho do array que iremos trabalhar com\n",
    "        value (int, optional): valor que vamos começar a contagem\n",
    "\n",
    "    Returns:\n",
    "        _type_: retorna um np.array com toda linha i e toda coluna i do mesmo valor, para todos os i presentes no size do array.\n",
    "    \"\"\"\n",
    "    size-=1\n",
    "    if size < 0:\n",
    "        return\n",
    "    else:\n",
    "        array[:, size] = value\n",
    "        array[size,:] = value\n",
    "    return change_values(array, size=size, value=(value-5))"
   ]
  },
  {
   "cell_type": "code",
   "execution_count": 6,
   "metadata": {},
   "outputs": [],
   "source": [
    "def get_bigger(array:np.ndarray, size:int):\n",
    "    #print(len(array))\n",
    "    if len(array) == size:\n",
    "        return array\n",
    "    else:\n",
    "        #print('I\\'m working!')\n",
    "        aux_row = np.zeros(shape=(1, len(array)))\n",
    "        array = np.vstack([aux_row, array])\n",
    "        \n",
    "        aux_column = np.zeros(shape=(len(array), 1))\n",
    "        array = np.hstack([array, aux_column])\n",
    "        #print(array)\n",
    "    return get_bigger(array=array, size=size)\n",
    "        \n",
    "    "
   ]
  },
  {
   "cell_type": "code",
   "execution_count": 2,
   "metadata": {},
   "outputs": [
    {
     "ename": "NameError",
     "evalue": "name 'np' is not defined",
     "output_type": "error",
     "traceback": [
      "\u001b[1;31m---------------------------------------------------------------------------\u001b[0m",
      "\u001b[1;31mNameError\u001b[0m                                 Traceback (most recent call last)",
      "Cell \u001b[1;32mIn [2], line 1\u001b[0m\n\u001b[1;32m----> 1\u001b[0m a \u001b[39m=\u001b[39m np\u001b[39m.\u001b[39mzeros(shape\u001b[39m=\u001b[39m(\u001b[39m8\u001b[39m,\u001b[39m8\u001b[39m)) \u001b[39m#Criando uma array de 2 dimensões, 10x10 preenchida por zeros.\u001b[39;00m\n\u001b[0;32m      2\u001b[0m np\u001b[39m.\u001b[39mfill_diagonal(a\u001b[39m=\u001b[39ma, val\u001b[39m=\u001b[39m\u001b[39m3\u001b[39m) \u001b[39m#filling diagonal com valor 3\u001b[39;00m\n\u001b[0;32m      4\u001b[0m b \u001b[39m=\u001b[39m np\u001b[39m.\u001b[39mzeros(shape\u001b[39m=\u001b[39m(\u001b[39m9\u001b[39m,\u001b[39m9\u001b[39m)) \u001b[39m#Criando uma array de 2 dimensões, 9x9 preenchida por zeros.\u001b[39;00m\n",
      "\u001b[1;31mNameError\u001b[0m: name 'np' is not defined"
     ]
    }
   ],
   "source": [
    "a = np.zeros(shape=(8,8)) #Criando uma array de 2 dimensões, 10x10 preenchida por zeros.\n",
    "np.fill_diagonal(a=a, val=3) #filling diagonal com valor 3\n",
    "\n",
    "b = np.zeros(shape=(9,9)) #Criando uma array de 2 dimensões, 9x9 preenchida por zeros.\n",
    "np.fill_diagonal(a=b, val=2) #filling diagonal com valor 2\n",
    "\n",
    "c = np.zeros(shape=(10,10)) #Criando uma array de 2 dimensões, 10x10 preenchida por zeros.\n",
    "np.fill_diagonal(a=c, val=1) #filling diagonal com valor 1\n",
    "\n",
    "array = np.zeros(shape=(10,10)) #Criando uma array de 2 dimensões, 10x10 preenchida por zeros.\n",
    "\n",
    "a = get_bigger(array=a, size=10)\n",
    "b = get_bigger(array=b, size=10)\n",
    "\n",
    "a = np.add(a,b)\n",
    "c = np.add(a,c)\n",
    "aux = np.flip(m=a, axis=0)\n",
    "aux = np.flip(m=aux, axis=1)\n",
    "c = np.add(c, aux)\n",
    "#listra vertical pronta!\n",
    "\n",
    "result = conc_arrays(aZero= c, a = array)\n",
    "\n",
    "\n",
    "change_values(array=array, size=len(array)) #modificando valores da array\n",
    "display(c) \n",
    "display(array) \n",
    "display(result)"
   ]
  },
  {
   "cell_type": "code",
   "execution_count": null,
   "metadata": {},
   "outputs": [],
   "source": [
    "def conc_arrays(aZero:np.ndarray, a:np.ndarray):\n",
    "    array = a"
   ]
  },
  {
   "cell_type": "markdown",
   "metadata": {},
   "source": [
    "## 2. Para o seguinte array, calcule: \n",
    "- Médias das diagonais principal e secundária.\n",
    "- Média das linhas e coluna para posteriomente plotar um gráfico de linhas.\n",
    "\n",
    "```python\n",
    " np.array([[ 44,  70,  98,  63,  30,  96,  26,  94,  20,  67],\n",
    "       [ 22,  79,  53,  16,  46,  63,  45,  61,  66,  10],\n",
    "       [ 71,  96,  68,  14,  86,  99,   1,  44,  66,  20],\n",
    "       [ 92,  40,   0,  12,  91,   1,   9,  19,  60,   5],\n",
    "       [ 53,  46,  65,  73,  29,   0,  89, 100,  13,  78],\n",
    "       [ 81,  16,  21, 100,  36,  51,  38,  85,  90,  35],\n",
    "       [ 91,  70,   8,  20,  60,  40,  14,  16,   0,  19],\n",
    "       [ 87,  10,  24,  40,  62,   5,  32,  28,  69,  29],\n",
    "       [ 94,  88,  40,   4,  85,  61,  30,  68,  63,  61],\n",
    "       [ 74, 100,  34,  88,   0,  12,  61,  32,  10,  46]])\n",
    "```\n",
    "\n",
    "**Resultado esperado:**\n",
    "\n",
    "Média diagonal principal:  43.4\n",
    "\n",
    "Média diagonal secundária:  42.8\n",
    "\n",
    "\n",
    "![](fig-ti2-ex2.png)"
   ]
  },
  {
   "cell_type": "code",
   "execution_count": 4,
   "metadata": {},
   "outputs": [],
   "source": [
    "data = np.array([\n",
    "        [ 44,  70,  98,  63,  30,  96,  26,  94,  20,  67],\n",
    "       [ 22,  79,  53,  16,  46,  63,  45,  61,  66,  10],\n",
    "       [ 71,  96,  68,  14,  86,  99,   1,  44,  66,  20],\n",
    "       [ 92,  40,   0,  12,  91,   1,   9,  19,  60,   5],\n",
    "       [ 53,  46,  65,  73,  29,   0,  89, 100,  13,  78],\n",
    "       [ 81,  16,  21, 100,  36,  51,  38,  85,  90,  35],\n",
    "       [ 91,  70,   8,  20,  60,  40,  14,  16,   0,  19],\n",
    "       [ 87,  10,  24,  40,  62,   5,  32,  28,  69,  29],\n",
    "       [ 94,  88,  40,   4,  85,  61,  30,  68,  63,  61],\n",
    "       [ 74, 100,  34,  88,   0,  12,  61,  32,  10,  46]])\n",
    "\n",
    "# Média diagonal principal\n",
    "prin_diag = np.diag(data) #retirando diagonal principal\n",
    "a_prin = float(np.sum(prin_diag)/len(prin_diag)) #Média = soma dos elementos dividido pela quantidade de elementos\n",
    "# Média diagonal secundária\n",
    "sec_diag = np.diag(np.flip(data, axis=1)) #retiro diagonal da array invertida no axis 1, ou seja, invertida em relação ao eixo y\n",
    "a_sec = float(np.sum(sec_diag)/len(sec_diag)) #Média = soma dos elementos dividido pela quantidade de elementos\n",
    "\n"
   ]
  },
  {
   "cell_type": "code",
   "execution_count": 112,
   "metadata": {},
   "outputs": [
    {
     "data": {
      "text/plain": [
       "array([70.9, 61.5, 41.1, 43. , 52.5, 42.8, 34.5, 54.7, 45.7, 37. ])"
      ]
     },
     "metadata": {},
     "output_type": "display_data"
    },
    {
     "data": {
      "text/plain": [
       "array([60.8, 46.1, 56.5, 32.9, 54.6, 55.3, 33.8, 38.6, 59.4, 45.7])"
      ]
     },
     "metadata": {},
     "output_type": "display_data"
    }
   ],
   "source": [
    "# Checagem dos dados:\n",
    "#print('Diagonal Principal: ', prin_diag)\n",
    "#print('Diagonal Secundária: ', sec_diag)\n",
    "\n",
    "#média das linhas para plottagem do gráfico\n",
    "av_row = np.array(data.mean(axis=1))\n",
    "\n",
    "#média das colunas para plottagem do gráfico\n",
    "av_column = np.array((data.mean(axis=0)))\n",
    "\n",
    "# Checagem dos dados:\n",
    "\n",
    "#display(data)\n",
    "display(av_column)\n",
    "display(av_row)\n",
    "#print('Diagonal Principal: ', prin_diag)\n",
    "#print('Diagonal Secundária: ', sec_diag)\n",
    "\n",
    "\n"
   ]
  },
  {
   "cell_type": "code",
   "execution_count": 111,
   "metadata": {},
   "outputs": [
    {
     "name": "stdout",
     "output_type": "stream",
     "text": [
      "Média diagonal principal:  43.4\n",
      "Média diagonal secundária:  42.8\n",
      "\n"
     ]
    },
    {
     "ename": "NameError",
     "evalue": "name 'av_row' is not defined",
     "output_type": "error",
     "traceback": [
      "\u001b[0;31m---------------------------------------------------------------------------\u001b[0m",
      "\u001b[0;31mNameError\u001b[0m                                 Traceback (most recent call last)",
      "Cell \u001b[0;32mIn [111], line 10\u001b[0m\n\u001b[1;32m      6\u001b[0m \u001b[39mprint\u001b[39m()\n\u001b[1;32m      8\u001b[0m \u001b[39m# Plottando o gráfico:\u001b[39;00m\n\u001b[0;32m---> 10\u001b[0m plt\u001b[39m.\u001b[39mplot(av_row, \u001b[39m'\u001b[39m\u001b[39m-^\u001b[39m\u001b[39m'\u001b[39m, color\u001b[39m=\u001b[39m\u001b[39m'\u001b[39m\u001b[39m#D2691E\u001b[39m\u001b[39m'\u001b[39m, label\u001b[39m=\u001b[39m \u001b[39m'\u001b[39m\u001b[39mlinhas\u001b[39m\u001b[39m'\u001b[39m) \u001b[39m# criação de um gráfico de linhas com vértices triangulares cor laranja com label 'linhas'\u001b[39;00m\n\u001b[1;32m     11\u001b[0m plt\u001b[39m.\u001b[39mplot(av_column,\u001b[39m'\u001b[39m\u001b[39m-o\u001b[39m\u001b[39m'\u001b[39m, color\u001b[39m=\u001b[39m\u001b[39m'\u001b[39m\u001b[39m#2527FD\u001b[39m\u001b[39m'\u001b[39m, markerfacecolor\u001b[39m=\u001b[39m\u001b[39m'\u001b[39m\u001b[39m#ADD8E6\u001b[39m\u001b[39m'\u001b[39m, label\u001b[39m=\u001b[39m \u001b[39m'\u001b[39m\u001b[39mcolunas\u001b[39m\u001b[39m'\u001b[39m) \u001b[39m# criação de um gráfico de linhas com vértices circulares cor 'flor azul de milho' com label 'colunas'\u001b[39;00m\n\u001b[1;32m     12\u001b[0m plt\u001b[39m.\u001b[39msuptitle(\u001b[39m'\u001b[39m\u001b[39mResultados\u001b[39m\u001b[39m'\u001b[39m) \u001b[39m#Título acima do gráfico\u001b[39;00m\n",
      "\u001b[0;31mNameError\u001b[0m: name 'av_row' is not defined"
     ]
    }
   ],
   "source": [
    "#Resultado da segunda atividade:\n",
    "\n",
    "# Apresentação do resultado dos calculos das médias:\n",
    "print('Média diagonal principal: ', a_prin)\n",
    "print('Média diagonal secundária: ',a_sec)\n",
    "print()\n",
    "\n",
    "# Plottando o gráfico:\n",
    "\n",
    "plt.plot(av_row, '-^', color='#D2691E', label= 'linhas') # criação de um gráfico de linhas com vértices triangulares cor laranja com label 'linhas'\n",
    "plt.plot(av_column,'-o', color='#2527FD', markerfacecolor='#ADD8E6', label= 'colunas') # criação de um gráfico de linhas com vértices circulares cor 'flor azul de milho' com label 'colunas'\n",
    "plt.suptitle('Resultados') #Título acima do gráfico\n",
    "\n",
    "plt.xlabel('Colunas')\n",
    "plt.ylabel('Médias')\n",
    "plt.legend()\n",
    "#fig.set_facecolor(transparent=True) #transformar o redor do gráfico transparente(?)\n",
    "plt.show()"
   ]
  },
  {
   "cell_type": "markdown",
   "metadata": {},
   "source": [
    "# Parte-2: Manipulação de Dados Tabular"
   ]
  },
  {
   "cell_type": "markdown",
   "metadata": {},
   "source": [
    "## 3. Forneça um único DataFrame a partir dos dados contidos em `cars_info.csv` e `cars_valores.csv`. Depois salve o DataFrame em um arquivo chamado `cars.csv` para reusar nas próximas questões.\n",
    "\n",
    "_Obs: Para quem usar laços nesta questão, terá um desconto de 25% na nota._\n",
    "\n",
    "\n",
    "**Resultado Esperado do DataFrame:**\n",
    "```bash\n",
    "<class 'pandas.core.frame.DataFrame'>\n",
    "Int64Index: 4340 entries, 0 to 4339\n",
    "Data columns (total 9 columns):\n",
    " #   Column         Non-Null Count  Dtype \n",
    "---  ------         --------------  ----- \n",
    " 0   ID             4340 non-null   int64 \n",
    " 1   name           4340 non-null   object\n",
    " 2   fuel           4340 non-null   object\n",
    " 3   seller_type    4340 non-null   object\n",
    " 4   transmission   4340 non-null   object\n",
    " 5   owner          4340 non-null   object\n",
    " 6   year           4340 non-null   int64 \n",
    " 7   selling_price  4340 non-null   object\n",
    " 8   km_driven      4340 non-null   int64 \n",
    "dtypes: int64(3), object(6)\n",
    "```"
   ]
  },
  {
   "cell_type": "code",
   "execution_count": 113,
   "metadata": {},
   "outputs": [],
   "source": [
    "ci = pd.read_csv('CAR_INFO.csv')\n",
    "cv = pd.read_csv('CAR_VALUES.csv')\n",
    "'''\n",
    "a lógica é:\n",
    "df = dataframe final\n",
    "transformar df em ci\n",
    "se id de ci existe em cv:\n",
    "    adicionar no indice de ci atual informações do indice atual de cv\n",
    "senão:\n",
    "    cria outro elemento.\n",
    "chamada recursiva com size-1'''\n",
    "\n",
    "#Checando dados:\n",
    "#display((ci))\n",
    "#display((cv))\n",
    "#display(cv.iloc[:,[2,3,4]])\n",
    "\n",
    "def create_one_df(d1:pd.DataFrame, d2:pd.DataFrame, index=0):\n",
    "    df = d1.sort_values(by=['ID'])\n",
    "    d2.sort_values(by=['ID'])\n",
    "    \n",
    "    df['year'] = d2.iloc[:,-3]\n",
    "    df['selling_price'] = d2.iloc[:,-2]\n",
    "    df['km_driven'] = d2.iloc[:,-1]\n",
    "\n",
    "    #if df[index] == df[-1]:\n",
    "    #    print('Done!')\n",
    "    #    return\n",
    "    #else:\n",
    "    #    print('Loop')\n",
    "    #    if d1.iloc[index, 1] == df.iloc[index, 1]:\n",
    "    #        df['year'][index] = d2.iloc[index,-3]\n",
    "    #        df['selling_price'][index] = d2.iloc[index,-2]\n",
    "    #        df['km_driven'][index] = d2.iloc[index,-1]\n",
    "    #        create_one_df(d1, d2, index=index+1) #recursive\n",
    "    return df\n",
    "#display(create_one_df(d1=ci, d2=cv))\n"
   ]
  },
  {
   "cell_type": "code",
   "execution_count": 114,
   "metadata": {},
   "outputs": [
    {
     "name": "stdout",
     "output_type": "stream",
     "text": [
      "<class 'pandas.core.frame.DataFrame'>\n",
      "Int64Index: 4340 entries, 0 to 4339\n",
      "Data columns (total 9 columns):\n",
      " #   Column         Non-Null Count  Dtype \n",
      "---  ------         --------------  ----- \n",
      " 0   ID             4340 non-null   int64 \n",
      " 1   name           4340 non-null   object\n",
      " 2   fuel           4340 non-null   object\n",
      " 3   seller_type    4340 non-null   object\n",
      " 4   transmission   4340 non-null   object\n",
      " 5   owner          4340 non-null   object\n",
      " 6   year           4340 non-null   int64 \n",
      " 7   selling_price  4340 non-null   object\n",
      " 8   km_driven      4340 non-null   int64 \n",
      "dtypes: int64(3), object(6)"
     ]
    }
   ],
   "source": [
    "#retornar resposta\n",
    "df = create_one_df(ci,cv) #criando df\n",
    "df.info(memory_usage=False)"
   ]
  },
  {
   "cell_type": "markdown",
   "metadata": {},
   "source": [
    "## 4 - Adicione o campo `marca` no `cars.csv` e corrija os dados.\n",
    "\n",
    "_Obs: o valor do campo marca deve ser extraído de uma coluna do próprio dataset_\n",
    "\n",
    "_Obs: Atente-se aos dados faltantes no campo selling-price, eles devem ser preenchidos com a média de preço dos carros da mesma marca_\n",
    "\n",
    "**Resultado Esperado do DataFrame:**\n",
    "\n",
    "\n",
    "```bash\n",
    "<class 'pandas.core.frame.DataFrame'>\n",
    "RangeIndex: 4340 entries, 0 to 4339\n",
    "Data columns (total 10 columns):\n",
    " #   Column         Non-Null Count  Dtype \n",
    "---  ------         --------------  ----- \n",
    " 0   ID             4340 non-null   int64 \n",
    " 1   name           4340 non-null   object\n",
    " 2   fuel           4340 non-null   object\n",
    " 3   seller_type    4340 non-null   object\n",
    " 4   transmission   4340 non-null   object\n",
    " 5   owner          4340 non-null   object\n",
    " 6   year           4340 non-null   int64 \n",
    " 7   selling_price  4340 non-null   int64 \n",
    " 8   km_driven      4340 non-null   int64 \n",
    " 9   marca          4340 non-null   object\n",
    "dtypes: int64(4), object(6)\n",
    "```"
   ]
  },
  {
   "cell_type": "code",
   "execution_count": 136,
   "metadata": {},
   "outputs": [
    {
     "data": {
      "text/plain": [
       "'Maruti'"
      ]
     },
     "metadata": {},
     "output_type": "display_data"
    }
   ],
   "source": [
    "#def add_marca(df=pd.DataFrame):\n",
    "\n",
    "   #     string = df['name']\n",
    "  #      string = str(string).split()[0]\n",
    " #       df['marca'] = str(df['name']).split()[0]\n",
    "df['marca']\n",
    "def add_marca(df:pd.DataFrame, index=0):\n",
    "    if index >= 4339:\n",
    "        return\n",
    "    else:\n",
    "        marca = str(df['name'][index]).split()[0]\n",
    "        df['marca'][index] = str(marca)\n",
    "        add_marca(df=df, index=index+1)\n",
    "    return df\n",
    "\n",
    "#display(df)\n",
    "#display(df)\n",
    "display(str(df['name'][0]).split()[0])"
   ]
  },
  {
   "cell_type": "code",
   "execution_count": 137,
   "metadata": {},
   "outputs": [
    {
     "name": "stderr",
     "output_type": "stream",
     "text": [
      "/tmp/ipykernel_6285/1756899096.py:12: SettingWithCopyWarning: \n",
      "A value is trying to be set on a copy of a slice from a DataFrame\n",
      "\n",
      "See the caveats in the documentation: https://pandas.pydata.org/pandas-docs/stable/user_guide/indexing.html#returning-a-view-versus-a-copy\n",
      "  df['marca'][index] = str(marca)\n"
     ]
    },
    {
     "ename": "RecursionError",
     "evalue": "maximum recursion depth exceeded while calling a Python object",
     "output_type": "error",
     "traceback": [
      "\u001b[0;31m---------------------------------------------------------------------------\u001b[0m",
      "\u001b[0;31mRecursionError\u001b[0m                            Traceback (most recent call last)",
      "Cell \u001b[0;32mIn [137], line 1\u001b[0m\n\u001b[0;32m----> 1\u001b[0m add_marca(df\u001b[39m=\u001b[39;49mdf)\n",
      "Cell \u001b[0;32mIn [136], line 13\u001b[0m, in \u001b[0;36madd_marca\u001b[0;34m(df, index)\u001b[0m\n\u001b[1;32m     11\u001b[0m     marca \u001b[39m=\u001b[39m \u001b[39mstr\u001b[39m(df[\u001b[39m'\u001b[39m\u001b[39mname\u001b[39m\u001b[39m'\u001b[39m][index])\u001b[39m.\u001b[39msplit()[\u001b[39m0\u001b[39m]\n\u001b[1;32m     12\u001b[0m     df[\u001b[39m'\u001b[39m\u001b[39mmarca\u001b[39m\u001b[39m'\u001b[39m][index] \u001b[39m=\u001b[39m \u001b[39mstr\u001b[39m(marca)\n\u001b[0;32m---> 13\u001b[0m     add_marca(df\u001b[39m=\u001b[39;49mdf, index\u001b[39m=\u001b[39;49mindex\u001b[39m+\u001b[39;49m\u001b[39m1\u001b[39;49m)\n\u001b[1;32m     14\u001b[0m \u001b[39mreturn\u001b[39;00m df\n",
      "Cell \u001b[0;32mIn [136], line 13\u001b[0m, in \u001b[0;36madd_marca\u001b[0;34m(df, index)\u001b[0m\n\u001b[1;32m     11\u001b[0m     marca \u001b[39m=\u001b[39m \u001b[39mstr\u001b[39m(df[\u001b[39m'\u001b[39m\u001b[39mname\u001b[39m\u001b[39m'\u001b[39m][index])\u001b[39m.\u001b[39msplit()[\u001b[39m0\u001b[39m]\n\u001b[1;32m     12\u001b[0m     df[\u001b[39m'\u001b[39m\u001b[39mmarca\u001b[39m\u001b[39m'\u001b[39m][index] \u001b[39m=\u001b[39m \u001b[39mstr\u001b[39m(marca)\n\u001b[0;32m---> 13\u001b[0m     add_marca(df\u001b[39m=\u001b[39;49mdf, index\u001b[39m=\u001b[39;49mindex\u001b[39m+\u001b[39;49m\u001b[39m1\u001b[39;49m)\n\u001b[1;32m     14\u001b[0m \u001b[39mreturn\u001b[39;00m df\n",
      "    \u001b[0;31m[... skipping similar frames: add_marca at line 13 (2953 times)]\u001b[0m\n",
      "Cell \u001b[0;32mIn [136], line 13\u001b[0m, in \u001b[0;36madd_marca\u001b[0;34m(df, index)\u001b[0m\n\u001b[1;32m     11\u001b[0m     marca \u001b[39m=\u001b[39m \u001b[39mstr\u001b[39m(df[\u001b[39m'\u001b[39m\u001b[39mname\u001b[39m\u001b[39m'\u001b[39m][index])\u001b[39m.\u001b[39msplit()[\u001b[39m0\u001b[39m]\n\u001b[1;32m     12\u001b[0m     df[\u001b[39m'\u001b[39m\u001b[39mmarca\u001b[39m\u001b[39m'\u001b[39m][index] \u001b[39m=\u001b[39m \u001b[39mstr\u001b[39m(marca)\n\u001b[0;32m---> 13\u001b[0m     add_marca(df\u001b[39m=\u001b[39;49mdf, index\u001b[39m=\u001b[39;49mindex\u001b[39m+\u001b[39;49m\u001b[39m1\u001b[39;49m)\n\u001b[1;32m     14\u001b[0m \u001b[39mreturn\u001b[39;00m df\n",
      "Cell \u001b[0;32mIn [136], line 12\u001b[0m, in \u001b[0;36madd_marca\u001b[0;34m(df, index)\u001b[0m\n\u001b[1;32m     10\u001b[0m \u001b[39melse\u001b[39;00m:\n\u001b[1;32m     11\u001b[0m     marca \u001b[39m=\u001b[39m \u001b[39mstr\u001b[39m(df[\u001b[39m'\u001b[39m\u001b[39mname\u001b[39m\u001b[39m'\u001b[39m][index])\u001b[39m.\u001b[39msplit()[\u001b[39m0\u001b[39m]\n\u001b[0;32m---> 12\u001b[0m     df[\u001b[39m'\u001b[39;49m\u001b[39mmarca\u001b[39;49m\u001b[39m'\u001b[39;49m][index] \u001b[39m=\u001b[39m \u001b[39mstr\u001b[39m(marca)\n\u001b[1;32m     13\u001b[0m     add_marca(df\u001b[39m=\u001b[39mdf, index\u001b[39m=\u001b[39mindex\u001b[39m+\u001b[39m\u001b[39m1\u001b[39m)\n\u001b[1;32m     14\u001b[0m \u001b[39mreturn\u001b[39;00m df\n",
      "File \u001b[0;32m~/.local/lib/python3.10/site-packages/pandas/core/series.py:1095\u001b[0m, in \u001b[0;36mSeries.__setitem__\u001b[0;34m(self, key, value)\u001b[0m\n\u001b[1;32m   1093\u001b[0m check_deprecated_indexers(key)\n\u001b[1;32m   1094\u001b[0m key \u001b[39m=\u001b[39m com\u001b[39m.\u001b[39mapply_if_callable(key, \u001b[39mself\u001b[39m)\n\u001b[0;32m-> 1095\u001b[0m cacher_needs_updating \u001b[39m=\u001b[39m \u001b[39mself\u001b[39;49m\u001b[39m.\u001b[39;49m_check_is_chained_assignment_possible()\n\u001b[1;32m   1097\u001b[0m \u001b[39mif\u001b[39;00m key \u001b[39mis\u001b[39;00m \u001b[39mEllipsis\u001b[39m:\n\u001b[1;32m   1098\u001b[0m     key \u001b[39m=\u001b[39m \u001b[39mslice\u001b[39m(\u001b[39mNone\u001b[39;00m)\n",
      "File \u001b[0;32m~/.local/lib/python3.10/site-packages/pandas/core/series.py:1284\u001b[0m, in \u001b[0;36mSeries._check_is_chained_assignment_possible\u001b[0;34m(self)\u001b[0m\n\u001b[1;32m   1282\u001b[0m \u001b[39mif\u001b[39;00m \u001b[39mself\u001b[39m\u001b[39m.\u001b[39m_is_view \u001b[39mand\u001b[39;00m \u001b[39mself\u001b[39m\u001b[39m.\u001b[39m_is_cached:\n\u001b[1;32m   1283\u001b[0m     ref \u001b[39m=\u001b[39m \u001b[39mself\u001b[39m\u001b[39m.\u001b[39m_get_cacher()\n\u001b[0;32m-> 1284\u001b[0m     \u001b[39mif\u001b[39;00m ref \u001b[39mis\u001b[39;00m \u001b[39mnot\u001b[39;00m \u001b[39mNone\u001b[39;00m \u001b[39mand\u001b[39;00m ref\u001b[39m.\u001b[39;49m_is_mixed_type:\n\u001b[1;32m   1285\u001b[0m         \u001b[39mself\u001b[39m\u001b[39m.\u001b[39m_check_setitem_copy(t\u001b[39m=\u001b[39m\u001b[39m\"\u001b[39m\u001b[39mreferent\u001b[39m\u001b[39m\"\u001b[39m, force\u001b[39m=\u001b[39m\u001b[39mTrue\u001b[39;00m)\n\u001b[1;32m   1286\u001b[0m     \u001b[39mreturn\u001b[39;00m \u001b[39mTrue\u001b[39;00m\n",
      "File \u001b[0;32m~/.local/lib/python3.10/site-packages/pandas/core/generic.py:6007\u001b[0m, in \u001b[0;36mNDFrame._is_mixed_type\u001b[0;34m(self)\u001b[0m\n\u001b[1;32m   6002\u001b[0m \u001b[39mif\u001b[39;00m \u001b[39mself\u001b[39m\u001b[39m.\u001b[39m_mgr\u001b[39m.\u001b[39many_extension_types:\n\u001b[1;32m   6003\u001b[0m     \u001b[39m# Even if they have the same dtype, we can't consolidate them,\u001b[39;00m\n\u001b[1;32m   6004\u001b[0m     \u001b[39m#  so we pretend this is \"mixed'\"\u001b[39;00m\n\u001b[1;32m   6005\u001b[0m     \u001b[39mreturn\u001b[39;00m \u001b[39mTrue\u001b[39;00m\n\u001b[0;32m-> 6007\u001b[0m \u001b[39mreturn\u001b[39;00m \u001b[39mself\u001b[39;49m\u001b[39m.\u001b[39;49mdtypes\u001b[39m.\u001b[39;49mnunique() \u001b[39m>\u001b[39m \u001b[39m1\u001b[39m\n",
      "File \u001b[0;32m~/.local/lib/python3.10/site-packages/pandas/core/base.py:1039\u001b[0m, in \u001b[0;36mIndexOpsMixin.nunique\u001b[0;34m(self, dropna)\u001b[0m\n\u001b[1;32m   1005\u001b[0m \u001b[39mdef\u001b[39;00m \u001b[39mnunique\u001b[39m(\u001b[39mself\u001b[39m, dropna: \u001b[39mbool\u001b[39m \u001b[39m=\u001b[39m \u001b[39mTrue\u001b[39;00m) \u001b[39m-\u001b[39m\u001b[39m>\u001b[39m \u001b[39mint\u001b[39m:\n\u001b[1;32m   1006\u001b[0m     \u001b[39m\"\"\"\u001b[39;00m\n\u001b[1;32m   1007\u001b[0m \u001b[39m    Return number of unique elements in the object.\u001b[39;00m\n\u001b[1;32m   1008\u001b[0m \n\u001b[0;32m   (...)\u001b[0m\n\u001b[1;32m   1037\u001b[0m \u001b[39m    4\u001b[39;00m\n\u001b[1;32m   1038\u001b[0m \u001b[39m    \"\"\"\u001b[39;00m\n\u001b[0;32m-> 1039\u001b[0m     uniqs \u001b[39m=\u001b[39m \u001b[39mself\u001b[39;49m\u001b[39m.\u001b[39;49munique()\n\u001b[1;32m   1040\u001b[0m     \u001b[39mif\u001b[39;00m dropna:\n\u001b[1;32m   1041\u001b[0m         uniqs \u001b[39m=\u001b[39m remove_na_arraylike(uniqs)\n",
      "File \u001b[0;32m~/.local/lib/python3.10/site-packages/pandas/core/series.py:2242\u001b[0m, in \u001b[0;36mSeries.unique\u001b[0;34m(self)\u001b[0m\n\u001b[1;32m   2183\u001b[0m \u001b[39mdef\u001b[39;00m \u001b[39munique\u001b[39m(\u001b[39mself\u001b[39m) \u001b[39m-\u001b[39m\u001b[39m>\u001b[39m ArrayLike:\n\u001b[1;32m   2184\u001b[0m     \u001b[39m\"\"\"\u001b[39;00m\n\u001b[1;32m   2185\u001b[0m \u001b[39m    Return unique values of Series object.\u001b[39;00m\n\u001b[1;32m   2186\u001b[0m \n\u001b[0;32m   (...)\u001b[0m\n\u001b[1;32m   2240\u001b[0m \u001b[39m    Categories (3, object): ['a' < 'b' < 'c']\u001b[39;00m\n\u001b[1;32m   2241\u001b[0m \u001b[39m    \"\"\"\u001b[39;00m\n\u001b[0;32m-> 2242\u001b[0m     \u001b[39mreturn\u001b[39;00m \u001b[39msuper\u001b[39;49m()\u001b[39m.\u001b[39;49munique()\n",
      "File \u001b[0;32m~/.local/lib/python3.10/site-packages/pandas/core/base.py:1001\u001b[0m, in \u001b[0;36mIndexOpsMixin.unique\u001b[0;34m(self)\u001b[0m\n\u001b[1;32m    999\u001b[0m         result \u001b[39m=\u001b[39m np\u001b[39m.\u001b[39masarray(result)\n\u001b[1;32m   1000\u001b[0m \u001b[39melse\u001b[39;00m:\n\u001b[0;32m-> 1001\u001b[0m     result \u001b[39m=\u001b[39m unique1d(values)\n\u001b[1;32m   1003\u001b[0m \u001b[39mreturn\u001b[39;00m result\n",
      "File \u001b[0;32m~/.local/lib/python3.10/site-packages/pandas/core/algorithms.py:409\u001b[0m, in \u001b[0;36munique\u001b[0;34m(values)\u001b[0m\n\u001b[1;32m    315\u001b[0m \u001b[39mdef\u001b[39;00m \u001b[39munique\u001b[39m(values):\n\u001b[1;32m    316\u001b[0m     \u001b[39m\"\"\"\u001b[39;00m\n\u001b[1;32m    317\u001b[0m \u001b[39m    Return unique values based on a hash table.\u001b[39;00m\n\u001b[1;32m    318\u001b[0m \n\u001b[0;32m   (...)\u001b[0m\n\u001b[1;32m    407\u001b[0m \u001b[39m    array([('a', 'b'), ('b', 'a'), ('a', 'c')], dtype=object)\u001b[39;00m\n\u001b[1;32m    408\u001b[0m \u001b[39m    \"\"\"\u001b[39;00m\n\u001b[0;32m--> 409\u001b[0m     \u001b[39mreturn\u001b[39;00m unique_with_mask(values)\n",
      "File \u001b[0;32m~/.local/lib/python3.10/site-packages/pandas/core/algorithms.py:421\u001b[0m, in \u001b[0;36munique_with_mask\u001b[0;34m(values, mask)\u001b[0m\n\u001b[1;32m    418\u001b[0m     \u001b[39mreturn\u001b[39;00m values\u001b[39m.\u001b[39munique()\n\u001b[1;32m    420\u001b[0m original \u001b[39m=\u001b[39m values\n\u001b[0;32m--> 421\u001b[0m htable, values \u001b[39m=\u001b[39m _get_hashtable_algo(values)\n\u001b[1;32m    423\u001b[0m table \u001b[39m=\u001b[39m htable(\u001b[39mlen\u001b[39m(values))\n\u001b[1;32m    424\u001b[0m \u001b[39mif\u001b[39;00m mask \u001b[39mis\u001b[39;00m \u001b[39mNone\u001b[39;00m:\n",
      "File \u001b[0;32m~/.local/lib/python3.10/site-packages/pandas/core/algorithms.py:280\u001b[0m, in \u001b[0;36m_get_hashtable_algo\u001b[0;34m(values)\u001b[0m\n\u001b[1;32m    269\u001b[0m \u001b[39mdef\u001b[39;00m \u001b[39m_get_hashtable_algo\u001b[39m(values: np\u001b[39m.\u001b[39mndarray):\n\u001b[1;32m    270\u001b[0m     \u001b[39m\"\"\"\u001b[39;00m\n\u001b[1;32m    271\u001b[0m \u001b[39m    Parameters\u001b[39;00m\n\u001b[1;32m    272\u001b[0m \u001b[39m    ----------\u001b[39;00m\n\u001b[0;32m   (...)\u001b[0m\n\u001b[1;32m    278\u001b[0m \u001b[39m    values : ndarray\u001b[39;00m\n\u001b[1;32m    279\u001b[0m \u001b[39m    \"\"\"\u001b[39;00m\n\u001b[0;32m--> 280\u001b[0m     values \u001b[39m=\u001b[39m _ensure_data(values)\n\u001b[1;32m    282\u001b[0m     ndtype \u001b[39m=\u001b[39m _check_object_for_strings(values)\n\u001b[1;32m    283\u001b[0m     htable \u001b[39m=\u001b[39m _hashtables[ndtype]\n",
      "File \u001b[0;32m~/.local/lib/python3.10/site-packages/pandas/core/algorithms.py:141\u001b[0m, in \u001b[0;36m_ensure_data\u001b[0;34m(values)\u001b[0m\n\u001b[1;32m    118\u001b[0m \u001b[39m\"\"\"\u001b[39;00m\n\u001b[1;32m    119\u001b[0m \u001b[39mroutine to ensure that our data is of the correct\u001b[39;00m\n\u001b[1;32m    120\u001b[0m \u001b[39minput dtype for lower-level routines\u001b[39;00m\n\u001b[0;32m   (...)\u001b[0m\n\u001b[1;32m    136\u001b[0m \u001b[39mnp.ndarray\u001b[39;00m\n\u001b[1;32m    137\u001b[0m \u001b[39m\"\"\"\u001b[39;00m\n\u001b[1;32m    139\u001b[0m \u001b[39mif\u001b[39;00m \u001b[39mnot\u001b[39;00m \u001b[39misinstance\u001b[39m(values, ABCMultiIndex):\n\u001b[1;32m    140\u001b[0m     \u001b[39m# extract_array would raise\u001b[39;00m\n\u001b[0;32m--> 141\u001b[0m     values \u001b[39m=\u001b[39m extract_array(values, extract_numpy\u001b[39m=\u001b[39;49m\u001b[39mTrue\u001b[39;49;00m)\n\u001b[1;32m    143\u001b[0m \u001b[39mif\u001b[39;00m is_object_dtype(values\u001b[39m.\u001b[39mdtype):\n\u001b[1;32m    144\u001b[0m     \u001b[39mreturn\u001b[39;00m ensure_object(np\u001b[39m.\u001b[39masarray(values))\n",
      "File \u001b[0;32m~/.local/lib/python3.10/site-packages/pandas/core/construction.py:444\u001b[0m, in \u001b[0;36mextract_array\u001b[0;34m(obj, extract_numpy, extract_range)\u001b[0m\n\u001b[1;32m    399\u001b[0m \u001b[39mdef\u001b[39;00m \u001b[39mextract_array\u001b[39m(\n\u001b[1;32m    400\u001b[0m     obj: T, extract_numpy: \u001b[39mbool\u001b[39m \u001b[39m=\u001b[39m \u001b[39mFalse\u001b[39;00m, extract_range: \u001b[39mbool\u001b[39m \u001b[39m=\u001b[39m \u001b[39mFalse\u001b[39;00m\n\u001b[1;32m    401\u001b[0m ) \u001b[39m-\u001b[39m\u001b[39m>\u001b[39m T \u001b[39m|\u001b[39m ArrayLike:\n\u001b[1;32m    402\u001b[0m     \u001b[39m\"\"\"\u001b[39;00m\n\u001b[1;32m    403\u001b[0m \u001b[39m    Extract the ndarray or ExtensionArray from a Series or Index.\u001b[39;00m\n\u001b[1;32m    404\u001b[0m \n\u001b[0;32m   (...)\u001b[0m\n\u001b[1;32m    442\u001b[0m \u001b[39m    array([1, 2, 3])\u001b[39;00m\n\u001b[1;32m    443\u001b[0m \u001b[39m    \"\"\"\u001b[39;00m\n\u001b[0;32m--> 444\u001b[0m     \u001b[39mif\u001b[39;00m \u001b[39misinstance\u001b[39;49m(obj, (ABCIndex, ABCSeries)):\n\u001b[1;32m    445\u001b[0m         \u001b[39mif\u001b[39;00m \u001b[39misinstance\u001b[39m(obj, ABCRangeIndex):\n\u001b[1;32m    446\u001b[0m             \u001b[39mif\u001b[39;00m extract_range:\n",
      "File \u001b[0;32m~/.local/lib/python3.10/site-packages/pandas/core/dtypes/generic.py:47\u001b[0m, in \u001b[0;36mcreate_pandas_abc_type.<locals>._instancecheck\u001b[0;34m(cls, inst)\u001b[0m\n\u001b[1;32m     45\u001b[0m \u001b[39m@classmethod\u001b[39m  \u001b[39m# type: ignore[misc]\u001b[39;00m\n\u001b[1;32m     46\u001b[0m \u001b[39mdef\u001b[39;00m \u001b[39m_instancecheck\u001b[39m(\u001b[39mcls\u001b[39m, inst) \u001b[39m-\u001b[39m\u001b[39m>\u001b[39m \u001b[39mbool\u001b[39m:\n\u001b[0;32m---> 47\u001b[0m     \u001b[39mreturn\u001b[39;00m _check(inst) \u001b[39mand\u001b[39;00m \u001b[39mnot\u001b[39;00m \u001b[39misinstance\u001b[39m(inst, \u001b[39mtype\u001b[39m)\n",
      "File \u001b[0;32m~/.local/lib/python3.10/site-packages/pandas/core/dtypes/generic.py:41\u001b[0m, in \u001b[0;36mcreate_pandas_abc_type.<locals>._check\u001b[0;34m(inst)\u001b[0m\n\u001b[1;32m     40\u001b[0m \u001b[39mdef\u001b[39;00m \u001b[39m_check\u001b[39m(inst):\n\u001b[0;32m---> 41\u001b[0m     \u001b[39mreturn\u001b[39;00m \u001b[39mgetattr\u001b[39;49m(inst, attr, \u001b[39m\"\u001b[39;49m\u001b[39m_typ\u001b[39;49m\u001b[39m\"\u001b[39;49m) \u001b[39min\u001b[39;00m comp\n",
      "\u001b[0;31mRecursionError\u001b[0m: maximum recursion depth exceeded while calling a Python object"
     ]
    }
   ],
   "source": [
    "add_marca(df=df)"
   ]
  },
  {
   "cell_type": "markdown",
   "metadata": {},
   "source": [
    "## 5- Mostre a diferença de preço de venda entre `First Owner` e `Second Owner` dos top 5 marcas mais caras pelo preço médio em gráfico de barras do dataset `cars.csv`.\n",
    "\n",
    "**Resultado Esperado**\n",
    "\n",
    "![](fig-ti2-ex5.png)\n"
   ]
  },
  {
   "cell_type": "code",
   "execution_count": null,
   "metadata": {},
   "outputs": [],
   "source": []
  },
  {
   "cell_type": "markdown",
   "metadata": {},
   "source": [
    "## 6- Mostre em gráfico de pizza (`Axes(1,2)`) com os 5 anos de maior número de vendas de carros usados (`Second Owner`) e maior número de vendas de carros novos (`First Owner`).\n",
    "\n",
    "**Resultado Esperado**\n",
    "\n",
    "![](fig-ti2-ex6.png)"
   ]
  },
  {
   "cell_type": "code",
   "execution_count": null,
   "metadata": {},
   "outputs": [],
   "source": []
  },
  {
   "cell_type": "markdown",
   "metadata": {},
   "source": [
    "## 7. Para a base de dados `cars.csv`, apresente dois gráficos `boxplot`  (`Axes(1,2)`) do valor de `km_driven`, sendo um para os 5 mais vendidos como `First Owner` e outro para os 5 mais vendidos como `Second Owner`.\n",
    "\n",
    "**Resultado Esperado**\n",
    "\n",
    "![](fig-ti2-ex7.png)"
   ]
  },
  {
   "cell_type": "code",
   "execution_count": null,
   "metadata": {},
   "outputs": [],
   "source": []
  }
 ],
 "metadata": {
  "kernelspec": {
   "display_name": "Python 3.10.6 64-bit",
   "language": "python",
   "name": "python3"
  },
  "language_info": {
   "codemirror_mode": {
    "name": "ipython",
    "version": 3
   },
   "file_extension": ".py",
   "mimetype": "text/x-python",
   "name": "python",
   "nbconvert_exporter": "python",
   "pygments_lexer": "ipython3",
   "version": "3.10.6"
  },
  "vscode": {
   "interpreter": {
    "hash": "916dbcbb3f70747c44a77c7bcd40155683ae19c65e1c03b4aa3499c5328201f1"
   }
  }
 },
 "nbformat": 4,
 "nbformat_minor": 2
}
